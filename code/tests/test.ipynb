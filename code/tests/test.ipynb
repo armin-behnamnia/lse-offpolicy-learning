{
 "cells": [
  {
   "cell_type": "code",
   "execution_count": 280,
   "metadata": {},
   "outputs": [],
   "source": [
    "import numpy as np\n",
    "steps = 5\n",
    "n = 2 ** steps\n",
    "alpha = 1.2\n",
    "true_mean = 1 / (alpha - 1)"
   ]
  },
  {
   "cell_type": "code",
   "execution_count": 145,
   "metadata": {},
   "outputs": [],
   "source": [
    "def calculate_lse_expected_value(lse_lambda, y):\n",
    "    result = lse_lambda * y\n",
    "    result = np.exp(result)\n",
    "    result = np.log(np.mean(result))\n",
    "    return ((1 / lse_lambda) * result)\n"
   ]
  },
  {
   "cell_type": "code",
   "execution_count": 298,
   "metadata": {},
   "outputs": [
    {
     "name": "stdout",
     "output_type": "stream",
     "text": [
      "7.1987688670055405\n",
      "1.8757077123402965\n",
      "5.000000000000001\n"
     ]
    }
   ],
   "source": [
    "samples = np.random.pareto(a=alpha, size=(n, 1))\n",
    "lse_items = []\n",
    "for step in range(steps):\n",
    "    item = []\n",
    "    for i in range(steps - step):\n",
    "        item.append(calculate_lse_expected_value(-0.1, samples[i * (2 ** step):(i + 1) * (2 ** step)]))\n",
    "    lse_items.append(np.mean(item))\n",
    "print(np.mean(samples))\n",
    "print(calculate_lse_expected_value(-0.1, samples))\n",
    "print(true_mean)"
   ]
  },
  {
   "cell_type": "code",
   "execution_count": null,
   "metadata": {},
   "outputs": [
    {
     "data": {
      "text/plain": [
       "(1.4771379893045833, 1.5096284631801136, 1.7180987778190229, 99.99999999999991)"
      ]
     },
     "execution_count": 119,
     "metadata": {},
     "output_type": "execute_result"
    }
   ],
   "source": []
  },
  {
   "cell_type": "code",
   "execution_count": 109,
   "metadata": {},
   "outputs": [
    {
     "data": {
      "text/plain": [
       "(65536, 1)"
      ]
     },
     "execution_count": 109,
     "metadata": {},
     "output_type": "execute_result"
    }
   ],
   "source": [
    "samples.shape"
   ]
  },
  {
   "cell_type": "code",
   "execution_count": null,
   "metadata": {},
   "outputs": [],
   "source": []
  }
 ],
 "metadata": {
  "kernelspec": {
   "display_name": "nlp_env",
   "language": "python",
   "name": "python3"
  },
  "language_info": {
   "codemirror_mode": {
    "name": "ipython",
    "version": 3
   },
   "file_extension": ".py",
   "mimetype": "text/x-python",
   "name": "python",
   "nbconvert_exporter": "python",
   "pygments_lexer": "ipython3",
   "version": "3.10.12"
  }
 },
 "nbformat": 4,
 "nbformat_minor": 2
}
