{
 "cells": [
  {
   "cell_type": "code",
   "execution_count": null,
   "id": "e09d0c48-a984-4845-8d74-e1acb297678b",
   "metadata": {},
   "outputs": [
    {
     "name": "stdout",
     "output_type": "stream",
     "text": [
      "--------------------------------------------------\n",
      "n= 10\n",
      "MC:  Bias=-0.0154, Variance=1.5406, MSE=1.5409\n",
      "LSE:  Bias=-0.1576, Variance=0.1038, MSE=0.1287\n",
      "--------------------------------------------------\n",
      "n= 50\n",
      "MC:  Bias=-0.0155, Variance=1.5289, MSE=1.5292\n",
      "LSE:  Bias=-0.1606, Variance=0.0616, MSE=0.0874\n",
      "--------------------------------------------------\n",
      "n= 100\n",
      "MC:  Bias=-0.0083, Variance=1.3229, MSE=1.3229\n",
      "LSE:  Bias=-0.1616, Variance=0.0443, MSE=0.0704\n",
      "--------------------------------------------------\n",
      "n= 1000\n",
      "MC:  Bias=-0.0061, Variance=1.0203, MSE=1.0203\n",
      "LSE:  Bias=-0.1624, Variance=0.0335, MSE=0.0598\n",
      "--------------------------------------------------\n",
      "n= 10000\n",
      "MC:  Bias=-0.0044, Variance=0.8384, MSE=0.8384\n",
      "LSE:  Bias=-0.1629, Variance=0.0268, MSE=0.0534\n"
     ]
    }
   ],
   "source": [
    "import numpy as np\n",
    "zeta = 1.5  # shape parameter\n",
    "x_m = 1/3    # scale parameter\n",
    "landa = 0.1\n",
    "# Generate 1000 samples from the Pareto distribution\n",
    "error_mc = []\n",
    "error_lse = []\n",
    "for n in [10, 50, 100, 1000, 10_000]:\n",
    "    print('-' * 50)\n",
    "    print('n=', n)\n",
    "    for exp in range(10_000):\n",
    "        samples = (np.random.pareto(zeta, n) + 1) * x_m\n",
    "        # Display the first few samples\n",
    "        # print(samples[:10])  # Print the fir\n",
    "        mc = np.mean(samples)\n",
    "        lse = -1/landa * np.log(np.mean(np.exp(samples * -landa)))\n",
    "        error_mc.append(mc - 1)\n",
    "        error_lse.append(lse - 1)\n",
    "    bias = np.mean(error_mc), np.mean(error_lse)\n",
    "    var = np.var(error_mc), np.var(error_lse)\n",
    "    mse = bias[0] ** 2 + var[0], bias[1] ** 2 + var[1]\n",
    "    print('MC: ', f'Bias={bias[0]:.4f}, Variance={var[0]:.4f}, MSE={mse[0]:.4f}')\n",
    "    print('LSE: ', f'Bias={bias[1]:.4f}, Variance={var[1]:.4f}, MSE={mse[1]:.4f}')"
   ]
  }
 ],
 "metadata": {
  "kernelspec": {
   "display_name": "nlp_env",
   "language": "python",
   "name": "nlp_env"
  },
  "language_info": {
   "codemirror_mode": {
    "name": "ipython",
    "version": 3
   },
   "file_extension": ".py",
   "mimetype": "text/x-python",
   "name": "python",
   "nbconvert_exporter": "python",
   "pygments_lexer": "ipython3",
   "version": "3.10.12"
  }
 },
 "nbformat": 4,
 "nbformat_minor": 5
}
