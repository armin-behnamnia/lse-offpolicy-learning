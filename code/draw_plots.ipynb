{
 "cells": [
  {
   "cell_type": "code",
   "execution_count": null,
   "metadata": {},
   "outputs": [],
   "source": [
    "import matplotlib.pyplot as plt\n",
    "import statistics\n",
    "from math import sqrt\n",
    "\n",
    "\n",
    "def plot_confidence_interval(x, values, z=1.96, color='#2187bb', horizontal_line_width=0.25):\n",
    "    mean = statistics.mean(values)\n",
    "    stdev = statistics.stdev(values)\n",
    "    confidence_interval = z * stdev / sqrt(len(values))\n",
    "\n",
    "    left = x - horizontal_line_width / 2\n",
    "    top = mean - confidence_interval\n",
    "    right = x + horizontal_line_width / 2\n",
    "    bottom = mean + confidence_interval\n",
    "    plt.plot([x, x], [top, bottom], color=color)\n",
    "    plt.plot([left, right], [top, top], color=color)\n",
    "    plt.plot([left, right], [bottom, bottom], color=color)\n",
    "    plt.plot(x, mean, 'o', color='#f44336')\n",
    "\n",
    "    return mean, confidence_interval\n",
    "\n",
    "\n",
    "plt.xticks([1, 2, 3, 4], ['FF', 'BF', 'FFD', 'BFD'])\n",
    "plt.title('Confidence Interval')\n",
    "plot_confidence_interval(1, [10, 11, 42, 45, 44])\n",
    "plot_confidence_interval(2, [10, 21, 42, 45, 44])\n",
    "plot_confidence_interval(3, [20, 2, 4, 45, 44])\n",
    "plot_confidence_interval(4, [30, 31, 42, 45, 44])\n",
    "plt.show()"
   ]
  },
  {
   "cell_type": "code",
   "execution_count": null,
   "metadata": {},
   "outputs": [],
   "source": []
  }
 ],
 "metadata": {
  "language_info": {
   "name": "python"
  },
  "orig_nbformat": 4
 },
 "nbformat": 4,
 "nbformat_minor": 2
}
